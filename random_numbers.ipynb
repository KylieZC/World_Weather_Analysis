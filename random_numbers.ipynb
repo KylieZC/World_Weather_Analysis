{
 "cells": [
  {
   "cell_type": "code",
   "execution_count": 10,
   "id": "44964c3b",
   "metadata": {},
   "outputs": [],
   "source": [
    "# Import the random module.\n",
    "import random"
   ]
  },
  {
   "cell_type": "code",
   "execution_count": 11,
   "id": "6be44daa",
   "metadata": {},
   "outputs": [
    {
     "data": {
      "text/plain": [
       "-85"
      ]
     },
     "execution_count": 11,
     "metadata": {},
     "output_type": "execute_result"
    }
   ],
   "source": [
    "random.randint(-90, 90)"
   ]
  },
  {
   "cell_type": "code",
   "execution_count": 13,
   "id": "12b8f2f7",
   "metadata": {},
   "outputs": [
    {
     "data": {
      "text/plain": [
       "[-11.446147048862677,\n",
       " -74.49179986724218,\n",
       " 12.999558687664752,\n",
       " -81.51312570251578,\n",
       " 38.995128596784525,\n",
       " 7.578091091778372,\n",
       " -76.05234300744078,\n",
       " -80.64141486127706,\n",
       " 60.501115991454974,\n",
       " -3.216637500077301]"
      ]
     },
     "execution_count": 13,
     "metadata": {},
     "output_type": "execute_result"
    }
   ],
   "source": [
    "x = 1\n",
    "latitudes = []\n",
    "while x < 11:\n",
    "    random_lat =  random.randint(-90, 89) + random.random()\n",
    "    latitudes.append(random_lat)\n",
    "    x += 1\n",
    "latitudes"
   ]
  },
  {
   "cell_type": "code",
   "execution_count": 39,
   "id": "f63f3d7f",
   "metadata": {},
   "outputs": [
    {
     "data": {
      "text/plain": [
       "5"
      ]
     },
     "execution_count": 39,
     "metadata": {},
     "output_type": "execute_result"
    }
   ],
   "source": [
    "random.randrange(0, 10, step=5)"
   ]
  },
  {
   "cell_type": "code",
   "execution_count": 45,
   "id": "57efa9ac",
   "metadata": {},
   "outputs": [],
   "source": [
    "# Import the NumPy module.\n",
    "import numpy as np"
   ]
  },
  {
   "cell_type": "code",
   "execution_count": 47,
   "id": "959e49ac",
   "metadata": {},
   "outputs": [
    {
     "data": {
      "text/plain": [
       "array([-73.78022288, -40.10027912,  26.84705675, -62.83289543,\n",
       "        -2.51921926,  54.76608041, -86.73498578,  32.19783343,\n",
       "        25.82840044, -62.26746933, -39.3355301 , -70.83723181,\n",
       "        60.84726931, -68.39746941,  35.57760036, -73.56064027,\n",
       "       -65.37212534,  47.86406737, -76.50727806,  30.55553682,\n",
       "        -1.95576587,  -1.03427445,  86.98036325,  85.74585708,\n",
       "       -65.41325198, -68.23992839,  19.55599603,  81.12011774,\n",
       "        84.92696638,  60.38161349, -53.32433965,  82.11018394,\n",
       "        14.70729824,  12.96837815, -81.93032261,  80.42224905,\n",
       "        76.30544029,  79.980022  , -56.84223442,  14.32865808,\n",
       "       -66.03569221,  61.26640417,  44.14229272, -33.10284423,\n",
       "        -7.94283887, -66.92936551, -81.89380139,  54.62907667,\n",
       "       -60.4771431 ,  21.44576395])"
      ]
     },
     "execution_count": 47,
     "metadata": {},
     "output_type": "execute_result"
    }
   ],
   "source": [
    "np.random.uniform(-90.000, 90.000, size=50)"
   ]
  },
  {
   "cell_type": "code",
   "execution_count": 51,
   "id": "bb4ca69e",
   "metadata": {},
   "outputs": [
    {
     "name": "stdout",
     "output_type": "stream",
     "text": [
      "11.9 µs ± 56.2 ns per loop (mean ± std. dev. of 7 runs, 100000 loops each)\n"
     ]
    }
   ],
   "source": [
    "# Import timeit.\n",
    "import timeit\n",
    "%timeit np.random.uniform(-90.000, 90.000, size=1500)\n"
   ]
  },
  {
   "cell_type": "code",
   "execution_count": 53,
   "id": "67a6e2e1",
   "metadata": {},
   "outputs": [
    {
     "name": "stdout",
     "output_type": "stream",
     "text": [
      "1.46 ms ± 6.85 µs per loop (mean ± std. dev. of 7 runs, 1000 loops each)\n"
     ]
    }
   ],
   "source": [
    "def latitudes(size):\n",
    "    latitudes = []\n",
    "    x = 0\n",
    "    while x < (size):\n",
    "        random_lat = random.randint(-90, 90) + random.random()\n",
    "        latitudes.append(random_lat)\n",
    "        x += 1\n",
    "    return latitudes\n",
    "# call the function\n",
    "%timeit latitudes(1500)"
   ]
  },
  {
   "cell_type": "code",
   "execution_count": null,
   "id": "3483ac10",
   "metadata": {},
   "outputs": [],
   "source": []
  }
 ],
 "metadata": {
  "kernelspec": {
   "display_name": "PythonData",
   "language": "python",
   "name": "pythondata"
  },
  "language_info": {
   "codemirror_mode": {
    "name": "ipython",
    "version": 3
   },
   "file_extension": ".py",
   "mimetype": "text/x-python",
   "name": "python",
   "nbconvert_exporter": "python",
   "pygments_lexer": "ipython3",
   "version": "3.7.10"
  }
 },
 "nbformat": 4,
 "nbformat_minor": 5
}
